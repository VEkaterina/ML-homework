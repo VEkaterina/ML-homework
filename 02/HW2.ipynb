{
 "cells": [
  {
   "cell_type": "code",
   "execution_count": 1,
   "id": "9450dd6c-6da8-4a21-b42e-770e75ed09a4",
   "metadata": {},
   "outputs": [],
   "source": [
    "import pandas as pd\n",
    "import numpy as np\n",
    "\n",
    "import seaborn as sns\n",
    "from matplotlib import pyplot as plt\n",
    "%matplotlib inline"
   ]
  },
  {
   "cell_type": "code",
   "execution_count": 44,
   "id": "5b60ed77-b1cd-4019-9b15-64689cc6ceea",
   "metadata": {},
   "outputs": [
    {
     "data": {
      "text/plain": [
       "9704"
      ]
     },
     "execution_count": 44,
     "metadata": {},
     "output_type": "execute_result"
    }
   ],
   "source": [
    "df = pd.read_csv('https://raw.githubusercontent.com/alexeygrigorev/datasets/master/car_fuel_efficiency.csv')\n",
    "len(df)"
   ]
  },
  {
   "cell_type": "code",
   "execution_count": 45,
   "id": "6ea12308-25f2-45b1-a429-07b4794235ec",
   "metadata": {},
   "outputs": [
    {
     "data": {
      "text/html": [
       "<div>\n",
       "<style scoped>\n",
       "    .dataframe tbody tr th:only-of-type {\n",
       "        vertical-align: middle;\n",
       "    }\n",
       "\n",
       "    .dataframe tbody tr th {\n",
       "        vertical-align: top;\n",
       "    }\n",
       "\n",
       "    .dataframe thead th {\n",
       "        text-align: right;\n",
       "    }\n",
       "</style>\n",
       "<table border=\"1\" class=\"dataframe\">\n",
       "  <thead>\n",
       "    <tr style=\"text-align: right;\">\n",
       "      <th></th>\n",
       "      <th>engine_displacement</th>\n",
       "      <th>num_cylinders</th>\n",
       "      <th>horsepower</th>\n",
       "      <th>vehicle_weight</th>\n",
       "      <th>acceleration</th>\n",
       "      <th>model_year</th>\n",
       "      <th>origin</th>\n",
       "      <th>fuel_type</th>\n",
       "      <th>drivetrain</th>\n",
       "      <th>num_doors</th>\n",
       "      <th>fuel_efficiency_mpg</th>\n",
       "    </tr>\n",
       "  </thead>\n",
       "  <tbody>\n",
       "    <tr>\n",
       "      <th>0</th>\n",
       "      <td>170</td>\n",
       "      <td>3.0</td>\n",
       "      <td>159.0</td>\n",
       "      <td>3413.433759</td>\n",
       "      <td>17.7</td>\n",
       "      <td>2003</td>\n",
       "      <td>Europe</td>\n",
       "      <td>Gasoline</td>\n",
       "      <td>All-wheel drive</td>\n",
       "      <td>0.0</td>\n",
       "      <td>13.231729</td>\n",
       "    </tr>\n",
       "    <tr>\n",
       "      <th>1</th>\n",
       "      <td>130</td>\n",
       "      <td>5.0</td>\n",
       "      <td>97.0</td>\n",
       "      <td>3149.664934</td>\n",
       "      <td>17.8</td>\n",
       "      <td>2007</td>\n",
       "      <td>USA</td>\n",
       "      <td>Gasoline</td>\n",
       "      <td>Front-wheel drive</td>\n",
       "      <td>0.0</td>\n",
       "      <td>13.688217</td>\n",
       "    </tr>\n",
       "    <tr>\n",
       "      <th>2</th>\n",
       "      <td>170</td>\n",
       "      <td>NaN</td>\n",
       "      <td>78.0</td>\n",
       "      <td>3079.038997</td>\n",
       "      <td>15.1</td>\n",
       "      <td>2018</td>\n",
       "      <td>Europe</td>\n",
       "      <td>Gasoline</td>\n",
       "      <td>Front-wheel drive</td>\n",
       "      <td>0.0</td>\n",
       "      <td>14.246341</td>\n",
       "    </tr>\n",
       "    <tr>\n",
       "      <th>3</th>\n",
       "      <td>220</td>\n",
       "      <td>4.0</td>\n",
       "      <td>NaN</td>\n",
       "      <td>2542.392402</td>\n",
       "      <td>20.2</td>\n",
       "      <td>2009</td>\n",
       "      <td>USA</td>\n",
       "      <td>Diesel</td>\n",
       "      <td>All-wheel drive</td>\n",
       "      <td>2.0</td>\n",
       "      <td>16.912736</td>\n",
       "    </tr>\n",
       "    <tr>\n",
       "      <th>4</th>\n",
       "      <td>210</td>\n",
       "      <td>1.0</td>\n",
       "      <td>140.0</td>\n",
       "      <td>3460.870990</td>\n",
       "      <td>14.4</td>\n",
       "      <td>2009</td>\n",
       "      <td>Europe</td>\n",
       "      <td>Gasoline</td>\n",
       "      <td>All-wheel drive</td>\n",
       "      <td>2.0</td>\n",
       "      <td>12.488369</td>\n",
       "    </tr>\n",
       "  </tbody>\n",
       "</table>\n",
       "</div>"
      ],
      "text/plain": [
       "   engine_displacement  num_cylinders  horsepower  vehicle_weight  \\\n",
       "0                  170            3.0       159.0     3413.433759   \n",
       "1                  130            5.0        97.0     3149.664934   \n",
       "2                  170            NaN        78.0     3079.038997   \n",
       "3                  220            4.0         NaN     2542.392402   \n",
       "4                  210            1.0       140.0     3460.870990   \n",
       "\n",
       "   acceleration  model_year  origin fuel_type         drivetrain  num_doors  \\\n",
       "0          17.7        2003  Europe  Gasoline    All-wheel drive        0.0   \n",
       "1          17.8        2007     USA  Gasoline  Front-wheel drive        0.0   \n",
       "2          15.1        2018  Europe  Gasoline  Front-wheel drive        0.0   \n",
       "3          20.2        2009     USA    Diesel    All-wheel drive        2.0   \n",
       "4          14.4        2009  Europe  Gasoline    All-wheel drive        2.0   \n",
       "\n",
       "   fuel_efficiency_mpg  \n",
       "0            13.231729  \n",
       "1            13.688217  \n",
       "2            14.246341  \n",
       "3            16.912736  \n",
       "4            12.488369  "
      ]
     },
     "execution_count": 45,
     "metadata": {},
     "output_type": "execute_result"
    }
   ],
   "source": [
    "df.head()"
   ]
  },
  {
   "cell_type": "markdown",
   "id": "db297d48-fa73-47dc-80ec-c74e6bd974c2",
   "metadata": {},
   "source": [
    "# Data preprocessing"
   ]
  },
  {
   "cell_type": "code",
   "execution_count": 46,
   "id": "031c49c9-a87d-47c0-9852-d938116f2dfb",
   "metadata": {},
   "outputs": [
    {
     "data": {
      "text/html": [
       "<div>\n",
       "<style scoped>\n",
       "    .dataframe tbody tr th:only-of-type {\n",
       "        vertical-align: middle;\n",
       "    }\n",
       "\n",
       "    .dataframe tbody tr th {\n",
       "        vertical-align: top;\n",
       "    }\n",
       "\n",
       "    .dataframe thead th {\n",
       "        text-align: right;\n",
       "    }\n",
       "</style>\n",
       "<table border=\"1\" class=\"dataframe\">\n",
       "  <thead>\n",
       "    <tr style=\"text-align: right;\">\n",
       "      <th></th>\n",
       "      <th>engine_displacement</th>\n",
       "      <th>horsepower</th>\n",
       "      <th>vehicle_weight</th>\n",
       "      <th>model_year</th>\n",
       "      <th>fuel_efficiency_mpg</th>\n",
       "    </tr>\n",
       "  </thead>\n",
       "  <tbody>\n",
       "    <tr>\n",
       "      <th>0</th>\n",
       "      <td>170</td>\n",
       "      <td>159.0</td>\n",
       "      <td>3413.433759</td>\n",
       "      <td>2003</td>\n",
       "      <td>13.231729</td>\n",
       "    </tr>\n",
       "    <tr>\n",
       "      <th>1</th>\n",
       "      <td>130</td>\n",
       "      <td>97.0</td>\n",
       "      <td>3149.664934</td>\n",
       "      <td>2007</td>\n",
       "      <td>13.688217</td>\n",
       "    </tr>\n",
       "    <tr>\n",
       "      <th>2</th>\n",
       "      <td>170</td>\n",
       "      <td>78.0</td>\n",
       "      <td>3079.038997</td>\n",
       "      <td>2018</td>\n",
       "      <td>14.246341</td>\n",
       "    </tr>\n",
       "    <tr>\n",
       "      <th>3</th>\n",
       "      <td>220</td>\n",
       "      <td>NaN</td>\n",
       "      <td>2542.392402</td>\n",
       "      <td>2009</td>\n",
       "      <td>16.912736</td>\n",
       "    </tr>\n",
       "    <tr>\n",
       "      <th>4</th>\n",
       "      <td>210</td>\n",
       "      <td>140.0</td>\n",
       "      <td>3460.870990</td>\n",
       "      <td>2009</td>\n",
       "      <td>12.488369</td>\n",
       "    </tr>\n",
       "  </tbody>\n",
       "</table>\n",
       "</div>"
      ],
      "text/plain": [
       "   engine_displacement  horsepower  vehicle_weight  model_year  \\\n",
       "0                  170       159.0     3413.433759        2003   \n",
       "1                  130        97.0     3149.664934        2007   \n",
       "2                  170        78.0     3079.038997        2018   \n",
       "3                  220         NaN     2542.392402        2009   \n",
       "4                  210       140.0     3460.870990        2009   \n",
       "\n",
       "   fuel_efficiency_mpg  \n",
       "0            13.231729  \n",
       "1            13.688217  \n",
       "2            14.246341  \n",
       "3            16.912736  \n",
       "4            12.488369  "
      ]
     },
     "execution_count": 46,
     "metadata": {},
     "output_type": "execute_result"
    }
   ],
   "source": [
    "df = df[['engine_displacement', 'horsepower', 'vehicle_weight', 'model_year', 'fuel_efficiency_mpg']]\n",
    "df.head()"
   ]
  },
  {
   "cell_type": "markdown",
   "id": "38c8fe8d-0d43-4fd8-a3d6-c39c1dd26e50",
   "metadata": {},
   "source": [
    "# Exploratory data analysis"
   ]
  },
  {
   "cell_type": "code",
   "execution_count": 17,
   "id": "cbbda6b2-b3a1-4c30-96fe-96f903c260b4",
   "metadata": {},
   "outputs": [
    {
     "data": {
      "image/png": "[encoded data removed]",
      "text/plain": [
       "<Figure size 600x400 with 1 Axes>"
      ]
     },
     "metadata": {},
     "output_type": "display_data"
    }
   ],
   "source": [
    "plt.figure(figsize=(6, 4))\n",
    "\n",
    "sns.histplot(df.fuel_efficiency_mpg, bins=40, color='black', alpha=1)\n",
    "plt.ylabel('Frequency')\n",
    "plt.xlabel('Fluel efficiency')\n",
    "plt.title('Distribution of fluel eficiencies')\n",
    "\n",
    "plt.show()"
   ]
  },
  {
   "cell_type": "markdown",
   "id": "348c928f-c413-4a34-8e9e-46adaf1c3eaf",
   "metadata": {},
   "source": [
    "No long tails, ideal normal distribution"
   ]
  },
  {
   "cell_type": "code",
   "execution_count": 8,
   "id": "2d67e836-0b11-4242-99a8-d443adf30e12",
   "metadata": {},
   "outputs": [
    {
     "data": {
      "text/plain": [
       "engine_displacement      0\n",
       "horsepower             708\n",
       "vehicle_weight           0\n",
       "model_year               0\n",
       "fuel_efficiency_mpg      0\n",
       "dtype: int64"
      ]
     },
     "execution_count": 8,
     "metadata": {},
     "output_type": "execute_result"
    }
   ],
   "source": [
    "df.isnull().sum()"
   ]
  },
  {
   "cell_type": "code",
   "execution_count": 9,
   "id": "79350741-3a1e-4a6f-8bc5-42cfd97110a4",
   "metadata": {},
   "outputs": [
    {
     "data": {
      "text/plain": [
       "np.float64(149.0)"
      ]
     },
     "execution_count": 9,
     "metadata": {},
     "output_type": "execute_result"
    }
   ],
   "source": [
    "df.horsepower.median()"
   ]
  },
  {
   "cell_type": "markdown",
   "id": "8a1bb8bb-d2ad-4cf9-bff5-5f188441fe41",
   "metadata": {},
   "source": [
    "# Prepare and split the dataset"
   ]
  },
  {
   "cell_type": "code",
   "execution_count": 8,
   "id": "be87540a-d900-4919-bd20-7d8201cf126f",
   "metadata": {},
   "outputs": [],
   "source": [
    "np.random.seed(42)\n",
    "\n",
    "n = len(df)\n",
    "\n",
    "n_val = int(0.2 * n)\n",
    "n_test = int(0.2 * n)\n",
    "n_train = n - (n_val + n_test)\n",
    "\n",
    "idx = np.arange(n)\n",
    "np.random.shuffle(idx)\n",
    "\n",
    "df_shuffled = df.iloc[idx]\n",
    "\n",
    "df_train = df_shuffled.iloc[:n_train].copy()\n",
    "df_val = df_shuffled.iloc[n_train:n_train+n_val].copy()\n",
    "df_test = df_shuffled.iloc[n_train+n_val:].copy()"
   ]
  },
  {
   "cell_type": "code",
   "execution_count": 9,
   "id": "fec3f913-1120-41db-a597-249159a3cd38",
   "metadata": {},
   "outputs": [],
   "source": [
    "y_train = df_train.fuel_efficiency_mpg.values\n",
    "y_val = df_val.fuel_efficiency_mpg.values\n",
    "y_test = df_test.fuel_efficiency_mpg.values\n",
    "\n",
    "del df_train['fuel_efficiency_mpg']\n",
    "del df_val['fuel_efficiency_mpg']\n",
    "del df_test['fuel_efficiency_mpg']"
   ]
  },
  {
   "cell_type": "markdown",
   "id": "0d99b65e-7c81-493a-92e4-380368559adb",
   "metadata": {},
   "source": [
    "# Missing values"
   ]
  },
  {
   "cell_type": "markdown",
   "id": "b9e1b6c4-7fb1-493e-a3b2-1cd866c10d09",
   "metadata": {},
   "source": [
    "## Solution 1: zeros"
   ]
  },
  {
   "cell_type": "code",
   "execution_count": 10,
   "id": "fc90abc8-4e71-42dd-8b98-93c526c39d18",
   "metadata": {},
   "outputs": [
    {
     "data": {
      "text/html": [
       "<div>\n",
       "<style scoped>\n",
       "    .dataframe tbody tr th:only-of-type {\n",
       "        vertical-align: middle;\n",
       "    }\n",
       "\n",
       "    .dataframe tbody tr th {\n",
       "        vertical-align: top;\n",
       "    }\n",
       "\n",
       "    .dataframe thead th {\n",
       "        text-align: right;\n",
       "    }\n",
       "</style>\n",
       "<table border=\"1\" class=\"dataframe\">\n",
       "  <thead>\n",
       "    <tr style=\"text-align: right;\">\n",
       "      <th></th>\n",
       "      <th>engine_displacement</th>\n",
       "      <th>horsepower</th>\n",
       "      <th>vehicle_weight</th>\n",
       "      <th>model_year</th>\n",
       "    </tr>\n",
       "  </thead>\n",
       "  <tbody>\n",
       "    <tr>\n",
       "      <th>483</th>\n",
       "      <td>220</td>\n",
       "      <td>144.0</td>\n",
       "      <td>2535.887591</td>\n",
       "      <td>2009</td>\n",
       "    </tr>\n",
       "    <tr>\n",
       "      <th>7506</th>\n",
       "      <td>160</td>\n",
       "      <td>141.0</td>\n",
       "      <td>2741.170484</td>\n",
       "      <td>2019</td>\n",
       "    </tr>\n",
       "    <tr>\n",
       "      <th>8795</th>\n",
       "      <td>230</td>\n",
       "      <td>155.0</td>\n",
       "      <td>2471.880237</td>\n",
       "      <td>2017</td>\n",
       "    </tr>\n",
       "    <tr>\n",
       "      <th>1688</th>\n",
       "      <td>150</td>\n",
       "      <td>206.0</td>\n",
       "      <td>3748.164469</td>\n",
       "      <td>2015</td>\n",
       "    </tr>\n",
       "    <tr>\n",
       "      <th>6217</th>\n",
       "      <td>300</td>\n",
       "      <td>111.0</td>\n",
       "      <td>2135.716359</td>\n",
       "      <td>2006</td>\n",
       "    </tr>\n",
       "  </tbody>\n",
       "</table>\n",
       "</div>"
      ],
      "text/plain": [
       "      engine_displacement  horsepower  vehicle_weight  model_year\n",
       "483                   220       144.0     2535.887591        2009\n",
       "7506                  160       141.0     2741.170484        2019\n",
       "8795                  230       155.0     2471.880237        2017\n",
       "1688                  150       206.0     3748.164469        2015\n",
       "6217                  300       111.0     2135.716359        2006"
      ]
     },
     "execution_count": 10,
     "metadata": {},
     "output_type": "execute_result"
    }
   ],
   "source": [
    "df_train_0 = df_train.fillna(0)\n",
    "df_train_0.head()"
   ]
  },
  {
   "cell_type": "code",
   "execution_count": 13,
   "id": "f6476c61-af9d-4804-bee4-9fb29365ae89",
   "metadata": {},
   "outputs": [],
   "source": [
    "def train_linear_regression(X, y):\n",
    "    ones = np.ones(X.shape[0])\n",
    "    X = np.column_stack([ones, X])\n",
    "\n",
    "    XTX = X.T.dot(X)\n",
    "    XTX_inv = np.linalg.inv(XTX)\n",
    "    w = XTX_inv.dot(X.T).dot(y)\n",
    "    \n",
    "    return w[0], w[1:]"
   ]
  },
  {
   "cell_type": "code",
   "execution_count": 14,
   "id": "e525a58b-9958-4a23-8c27-1d5857916131",
   "metadata": {},
   "outputs": [],
   "source": [
    "w_0, w = train_linear_regression(df_train_0.values, y_train)"
   ]
  },
  {
   "cell_type": "code",
   "execution_count": 15,
   "id": "b93b1fa8-89fd-4319-9bf6-e9e5c437c430",
   "metadata": {},
   "outputs": [],
   "source": [
    "y_pred = w_0 + df_train_0.dot(w)"
   ]
  },
  {
   "cell_type": "code",
   "execution_count": 18,
   "id": "2c0a1feb-a85a-44d3-ad2a-76d6b43e215f",
   "metadata": {},
   "outputs": [
    {
     "data": {
      "image/png": "[encoded data removed]",
      "text/plain": [
       "<Figure size 600x400 with 1 Axes>"
      ]
     },
     "metadata": {},
     "output_type": "display_data"
    }
   ],
   "source": [
    "plt.figure(figsize=(6, 4))\n",
    "\n",
    "sns.histplot(y_train, label='target', color='#222222', alpha=0.6, bins=40)\n",
    "sns.histplot(y_pred, label='prediction', color='#aaaaaa', alpha=0.8, bins=40)\n",
    "\n",
    "plt.legend()\n",
    "\n",
    "plt.ylabel('Frequency')\n",
    "plt.xlabel('Fluel eficiency')\n",
    "plt.title('Predictions vs actual distribution')\n",
    "\n",
    "plt.show()"
   ]
  },
  {
   "cell_type": "code",
   "execution_count": 16,
   "id": "227e4c57-58db-4703-84fa-e469e75ccf58",
   "metadata": {},
   "outputs": [],
   "source": [
    "def rmse(y, y_pred):\n",
    "    error = y_pred - y\n",
    "    mse = (error ** 2).mean()\n",
    "    return np.sqrt(mse)"
   ]
  },
  {
   "cell_type": "code",
   "execution_count": 20,
   "id": "6fffe20b-e549-47f7-b475-68bb30bf5cc3",
   "metadata": {},
   "outputs": [
    {
     "data": {
      "text/plain": [
       "np.float64(0.5202614265099076)"
      ]
     },
     "execution_count": 20,
     "metadata": {},
     "output_type": "execute_result"
    }
   ],
   "source": [
    "rmse(y_train, y_pred)"
   ]
  },
  {
   "cell_type": "markdown",
   "id": "3489a4b4-624b-46ab-86ed-278d33fc18d0",
   "metadata": {},
   "source": [
    "### Validation"
   ]
  },
  {
   "cell_type": "code",
   "execution_count": 12,
   "id": "aff387c6-c081-423e-bc99-634d4d4558aa",
   "metadata": {},
   "outputs": [],
   "source": [
    "df_val_0 = df_val.fillna(0)"
   ]
  },
  {
   "cell_type": "code",
   "execution_count": 22,
   "id": "4df6f130-f388-449b-a47d-b6d0e56d11dd",
   "metadata": {},
   "outputs": [],
   "source": [
    "y_pred_val_0 = w_0 + df_val_0.dot(w)"
   ]
  },
  {
   "cell_type": "code",
   "execution_count": 24,
   "id": "193da6f8-0e15-46a4-8141-477a3b95a08e",
   "metadata": {},
   "outputs": [
    {
     "data": {
      "text/plain": [
       "np.float64(0.52)"
      ]
     },
     "execution_count": 24,
     "metadata": {},
     "output_type": "execute_result"
    }
   ],
   "source": [
    "round(rmse(y_val, y_pred_val_0), 2)"
   ]
  },
  {
   "cell_type": "markdown",
   "id": "8d4d1d9c-05d6-4a97-933d-eedc68abe57c",
   "metadata": {},
   "source": [
    "## Solution 2: means"
   ]
  },
  {
   "cell_type": "code",
   "execution_count": 25,
   "id": "25944fd2-9740-4c97-ad9c-70ef4236369e",
   "metadata": {},
   "outputs": [],
   "source": [
    "mean_h = df_train.horsepower.mean()"
   ]
  },
  {
   "cell_type": "code",
   "execution_count": 26,
   "id": "79938ca2-4773-47ee-91f8-2aa7dbff571b",
   "metadata": {},
   "outputs": [
    {
     "data": {
      "text/html": [
       "<div>\n",
       "<style scoped>\n",
       "    .dataframe tbody tr th:only-of-type {\n",
       "        vertical-align: middle;\n",
       "    }\n",
       "\n",
       "    .dataframe tbody tr th {\n",
       "        vertical-align: top;\n",
       "    }\n",
       "\n",
       "    .dataframe thead th {\n",
       "        text-align: right;\n",
       "    }\n",
       "</style>\n",
       "<table border=\"1\" class=\"dataframe\">\n",
       "  <thead>\n",
       "    <tr style=\"text-align: right;\">\n",
       "      <th></th>\n",
       "      <th>engine_displacement</th>\n",
       "      <th>horsepower</th>\n",
       "      <th>vehicle_weight</th>\n",
       "      <th>model_year</th>\n",
       "    </tr>\n",
       "  </thead>\n",
       "  <tbody>\n",
       "    <tr>\n",
       "      <th>483</th>\n",
       "      <td>220</td>\n",
       "      <td>144.0</td>\n",
       "      <td>2535.887591</td>\n",
       "      <td>2009</td>\n",
       "    </tr>\n",
       "    <tr>\n",
       "      <th>7506</th>\n",
       "      <td>160</td>\n",
       "      <td>141.0</td>\n",
       "      <td>2741.170484</td>\n",
       "      <td>2019</td>\n",
       "    </tr>\n",
       "    <tr>\n",
       "      <th>8795</th>\n",
       "      <td>230</td>\n",
       "      <td>155.0</td>\n",
       "      <td>2471.880237</td>\n",
       "      <td>2017</td>\n",
       "    </tr>\n",
       "    <tr>\n",
       "      <th>1688</th>\n",
       "      <td>150</td>\n",
       "      <td>206.0</td>\n",
       "      <td>3748.164469</td>\n",
       "      <td>2015</td>\n",
       "    </tr>\n",
       "    <tr>\n",
       "      <th>6217</th>\n",
       "      <td>300</td>\n",
       "      <td>111.0</td>\n",
       "      <td>2135.716359</td>\n",
       "      <td>2006</td>\n",
       "    </tr>\n",
       "  </tbody>\n",
       "</table>\n",
       "</div>"
      ],
      "text/plain": [
       "      engine_displacement  horsepower  vehicle_weight  model_year\n",
       "483                   220       144.0     2535.887591        2009\n",
       "7506                  160       141.0     2741.170484        2019\n",
       "8795                  230       155.0     2471.880237        2017\n",
       "1688                  150       206.0     3748.164469        2015\n",
       "6217                  300       111.0     2135.716359        2006"
      ]
     },
     "execution_count": 26,
     "metadata": {},
     "output_type": "execute_result"
    }
   ],
   "source": [
    "df_train_m = df_train.fillna(mean_h)\n",
    "df_train_m.head()"
   ]
  },
  {
   "cell_type": "code",
   "execution_count": 27,
   "id": "50af7c71-3e20-467a-abdd-63a6be448daf",
   "metadata": {},
   "outputs": [],
   "source": [
    "w_0_m, w_m = train_linear_regression(df_train_m.values, y_train)"
   ]
  },
  {
   "cell_type": "code",
   "execution_count": 28,
   "id": "afa95388-434b-4b56-9f67-7a087f132b30",
   "metadata": {},
   "outputs": [],
   "source": [
    "y_pred_m = w_0_m + df_train_0.dot(w_m)"
   ]
  },
  {
   "cell_type": "code",
   "execution_count": 29,
   "id": "556fcf37-3aba-4e10-8536-4540229e8a73",
   "metadata": {},
   "outputs": [
    {
     "data": {
      "image/png": "[encoded data removed]",
      "text/plain": [
       "<Figure size 600x400 with 1 Axes>"
      ]
     },
     "metadata": {},
     "output_type": "display_data"
    }
   ],
   "source": [
    "plt.figure(figsize=(6, 4))\n",
    "\n",
    "sns.histplot(y_train, label='target', color='#222222', alpha=0.6, bins=40)\n",
    "sns.histplot(y_pred_m, label='prediction', color='#aaaaaa', alpha=0.8, bins=40)\n",
    "\n",
    "plt.legend()\n",
    "\n",
    "plt.ylabel('Frequency')\n",
    "plt.xlabel('Fluel eficiency')\n",
    "plt.title('Predictions vs actual distribution')\n",
    "\n",
    "plt.show()"
   ]
  },
  {
   "cell_type": "code",
   "execution_count": 30,
   "id": "2e805f2b-4c4e-481c-beb2-11f7279f9827",
   "metadata": {},
   "outputs": [
    {
     "data": {
      "text/plain": [
       "np.float64(0.6248117960544057)"
      ]
     },
     "execution_count": 30,
     "metadata": {},
     "output_type": "execute_result"
    }
   ],
   "source": [
    "rmse(y_train, y_pred_m)"
   ]
  },
  {
   "cell_type": "markdown",
   "id": "f27781a4-bb2b-4c1b-9b6a-30e8e091e719",
   "metadata": {},
   "source": [
    "### Validation"
   ]
  },
  {
   "cell_type": "code",
   "execution_count": 31,
   "id": "963707a7-8acd-4089-a201-44b09497c350",
   "metadata": {},
   "outputs": [],
   "source": [
    "df_val_m = df_val.fillna(mean_h)"
   ]
  },
  {
   "cell_type": "code",
   "execution_count": 32,
   "id": "b48d46cf-2866-4e75-8362-5303022fe2a7",
   "metadata": {},
   "outputs": [],
   "source": [
    "y_pred_val_m = w_0_m + df_val_m.dot(w_m)"
   ]
  },
  {
   "cell_type": "code",
   "execution_count": 34,
   "id": "3f853f86-e3f7-4ab3-9c61-45645c7a83b9",
   "metadata": {},
   "outputs": [
    {
     "data": {
      "text/plain": [
       "np.float64(0.46)"
      ]
     },
     "execution_count": 34,
     "metadata": {},
     "output_type": "execute_result"
    }
   ],
   "source": [
    "round(rmse(y_val, y_pred_val_m), 2)"
   ]
  },
  {
   "cell_type": "markdown",
   "id": "8ccf4bc7-b00e-4af5-95e7-5b877820f302",
   "metadata": {},
   "source": [
    "# A regularized linear regression"
   ]
  },
  {
   "cell_type": "code",
   "execution_count": 39,
   "id": "3c9dbb30-e276-45ef-aae9-5d93cae2ea03",
   "metadata": {},
   "outputs": [],
   "source": [
    "def train_linear_regression_reg(X, y, r):\n",
    "    ones = np.ones(X.shape[0])\n",
    "    X = np.column_stack([ones, X])\n",
    "\n",
    "    XTX = X.T.dot(X)\n",
    "    reg = r * np.eye(XTX.shape[0])\n",
    "    XTX = XTX + reg\n",
    "\n",
    "    XTX_inv = np.linalg.inv(XTX)\n",
    "    w = XTX_inv.dot(X.T).dot(y)\n",
    "    \n",
    "    return w[0], w[1:]"
   ]
  },
  {
   "cell_type": "code",
   "execution_count": 16,
   "id": "c099e8ec-6c71-4cf4-98f3-6c0e1c50f454",
   "metadata": {},
   "outputs": [
    {
     "name": "stdout",
     "output_type": "stream",
     "text": [
      "     0 0.52\n",
      "  0.01 0.52\n",
      "   0.1 0.52\n",
      "     1 0.52\n",
      "     5 0.52\n",
      "    10 0.52\n",
      "   100 0.52\n"
     ]
    }
   ],
   "source": [
    "for r in [0, 0.01, 0.1, 1, 5, 10, 100]:\n",
    "    w_0, w = train_linear_regression_reg(df_train_0.values, y_train, r=r)\n",
    "    y_pred = w_0 + df_val_0.dot(w)\n",
    "    print('%6s' %r, round(rmse(y_val, y_pred), 2))"
   ]
  },
  {
   "cell_type": "markdown",
   "id": "945583f9-7795-4e18-a88e-1804a1f3d75b",
   "metadata": {},
   "source": [
    "# Selecting the seed"
   ]
  },
  {
   "cell_type": "code",
   "execution_count": null,
   "id": "dc9f8718-3d55-4380-9168-05cc24f73883",
   "metadata": {},
   "outputs": [],
   "source": [
    "np.random.seed(42)\n",
    "\n",
    "n = len(df)\n",
    "\n",
    "n_val = int(0.2 * n)\n",
    "n_test = int(0.2 * n)\n",
    "n_train = n - (n_val + n_test)\n",
    "\n",
    "idx = np.arange(n)\n",
    "np.random.shuffle(idx)\n",
    "\n",
    "df_shuffled = df.iloc[idx]\n",
    "\n",
    "df_train = df_shuffled.iloc[:n_train].copy()\n",
    "df_val = df_shuffled.iloc[n_train:n_train+n_val].copy()\n",
    "df_test = df_shuffled.iloc[n_train+n_val:].copy()"
   ]
  },
  {
   "cell_type": "code",
   "execution_count": 6,
   "id": "7c23029c-b4a4-4283-a3c5-5d33ab4505ce",
   "metadata": {},
   "outputs": [],
   "source": [
    "df_train_list = []\n",
    "df_val_list = []\n",
    "df_test_list = []\n",
    "\n",
    "for x in [0, 1, 2, 3, 4, 5, 6, 7, 8, 9]:\n",
    "    np.random.seed(x)\n",
    "    n = len(df)\n",
    "    n_val = int(0.2 * n)\n",
    "    n_test = int(0.2 * n)\n",
    "    n_train = n - (n_val + n_test)\n",
    "    \n",
    "    idx = np.arange(n)\n",
    "    np.random.shuffle(idx)\n",
    "    df_shuffled = df.iloc[idx]\n",
    "    \n",
    "    df_train_list.append(df_shuffled.iloc[:n_train].copy())\n",
    "    df_val_list.append(df_shuffled.iloc[n_train:n_train+n_val].copy())\n",
    "    df_test_list.append(df_shuffled.iloc[n_train+n_val:].copy())"
   ]
  },
  {
   "cell_type": "code",
   "execution_count": 11,
   "id": "70b5cd09-4361-4e10-b522-80b2544f7a9e",
   "metadata": {},
   "outputs": [],
   "source": [
    "y_train = []\n",
    "y_val = []\n",
    "y_test = []\n",
    "\n",
    "for d in range(len(df_train_list)):\n",
    "    y_train.append(df_train_list[d].fuel_efficiency_mpg.values)\n",
    "    del df_train_list[d]['fuel_efficiency_mpg']\n",
    "    y_val.append(df_val_list[d].fuel_efficiency_mpg.values)\n",
    "    del df_val_list[d]['fuel_efficiency_mpg']\n",
    "    y_test.append(df_test_list[d].fuel_efficiency_mpg.values)\n",
    "    del df_test_list[d]['fuel_efficiency_mpg']"
   ]
  },
  {
   "cell_type": "code",
   "execution_count": 17,
   "id": "3a464d34-9f06-4110-8f9d-acf0acdd6a4e",
   "metadata": {},
   "outputs": [],
   "source": [
    "RMSE_scores = []\n",
    "\n",
    "for d in range(len(df_train_list)):\n",
    "    df_train_list[d] =  df_train_list[d].fillna(0)\n",
    "    df_val_list[d] =  df_val_list[d].fillna(0)\n",
    "    w_0, w = train_linear_regression(df_train_list[d].values, y_train[d])\n",
    "    y_pred = w_0 + df_val_list[d].dot(w)\n",
    "    RMSE_scores.append(rmse(y_val[d], y_pred))"
   ]
  },
  {
   "cell_type": "code",
   "execution_count": 32,
   "id": "48b66857-14cb-45fd-b11f-53abd748bbac",
   "metadata": {},
   "outputs": [
    {
     "data": {
      "text/plain": [
       "np.float64(0.006989446425721602)"
      ]
     },
     "execution_count": 32,
     "metadata": {},
     "output_type": "execute_result"
    }
   ],
   "source": [
    "RMSE_array = np.array(RMSE_scores)\n",
    "RMSE_array.std()"
   ]
  },
  {
   "cell_type": "code",
   "execution_count": 31,
   "id": "fd972144-8d1a-4aca-9963-9035f94c737e",
   "metadata": {},
   "outputs": [
    {
     "data": {
      "text/plain": [
       "np.float64(0.007)"
      ]
     },
     "execution_count": 31,
     "metadata": {},
     "output_type": "execute_result"
    }
   ],
   "source": [
    "round(RMSE_array.std(), 3)"
   ]
  },
  {
   "cell_type": "markdown",
   "id": "bb49e1f6-8d94-48cb-998d-4e9556368960",
   "metadata": {},
   "source": [
    "# Question 6"
   ]
  },
  {
   "cell_type": "code",
   "execution_count": 47,
   "id": "0ba9edc0-5ea6-4adf-ae12-99b393b4189e",
   "metadata": {},
   "outputs": [],
   "source": [
    "np.random.seed(9)\n",
    "\n",
    "n = len(df)\n",
    "\n",
    "n_val = int(0.2 * n)\n",
    "n_test = int(0.2 * n)\n",
    "n_train = n - (n_val + n_test)\n",
    "\n",
    "idx = np.arange(n)\n",
    "np.random.shuffle(idx)\n",
    "\n",
    "df_shuffled = df.iloc[idx]\n",
    "\n",
    "df_train = df_shuffled.iloc[:n_train].copy()\n",
    "df_val = df_shuffled.iloc[n_train:n_train+n_val].copy()\n",
    "df_test = df_shuffled.iloc[n_train+n_val:].copy()"
   ]
  },
  {
   "cell_type": "code",
   "execution_count": 48,
   "id": "6123b830-f6b7-413e-8c2a-e1bf84d940a9",
   "metadata": {},
   "outputs": [],
   "source": [
    "df_new = pd.concat([df_train, df_val])"
   ]
  },
  {
   "cell_type": "code",
   "execution_count": 49,
   "id": "77023dd4-6489-4c2c-9563-b742a2695b96",
   "metadata": {},
   "outputs": [
    {
     "data": {
      "text/html": [
       "<div>\n",
       "<style scoped>\n",
       "    .dataframe tbody tr th:only-of-type {\n",
       "        vertical-align: middle;\n",
       "    }\n",
       "\n",
       "    .dataframe tbody tr th {\n",
       "        vertical-align: top;\n",
       "    }\n",
       "\n",
       "    .dataframe thead th {\n",
       "        text-align: right;\n",
       "    }\n",
       "</style>\n",
       "<table border=\"1\" class=\"dataframe\">\n",
       "  <thead>\n",
       "    <tr style=\"text-align: right;\">\n",
       "      <th></th>\n",
       "      <th>engine_displacement</th>\n",
       "      <th>horsepower</th>\n",
       "      <th>vehicle_weight</th>\n",
       "      <th>model_year</th>\n",
       "      <th>fuel_efficiency_mpg</th>\n",
       "    </tr>\n",
       "  </thead>\n",
       "  <tbody>\n",
       "    <tr>\n",
       "      <th>9066</th>\n",
       "      <td>240</td>\n",
       "      <td>136.0</td>\n",
       "      <td>4050.512290</td>\n",
       "      <td>2006</td>\n",
       "      <td>10.304700</td>\n",
       "    </tr>\n",
       "    <tr>\n",
       "      <th>3073</th>\n",
       "      <td>190</td>\n",
       "      <td>141.0</td>\n",
       "      <td>3195.866942</td>\n",
       "      <td>2017</td>\n",
       "      <td>13.479434</td>\n",
       "    </tr>\n",
       "    <tr>\n",
       "      <th>2476</th>\n",
       "      <td>200</td>\n",
       "      <td>184.0</td>\n",
       "      <td>3006.164370</td>\n",
       "      <td>2017</td>\n",
       "      <td>16.190653</td>\n",
       "    </tr>\n",
       "    <tr>\n",
       "      <th>658</th>\n",
       "      <td>200</td>\n",
       "      <td>0.0</td>\n",
       "      <td>2947.143980</td>\n",
       "      <td>2022</td>\n",
       "      <td>15.446503</td>\n",
       "    </tr>\n",
       "    <tr>\n",
       "      <th>954</th>\n",
       "      <td>250</td>\n",
       "      <td>132.0</td>\n",
       "      <td>3114.371978</td>\n",
       "      <td>2001</td>\n",
       "      <td>14.472172</td>\n",
       "    </tr>\n",
       "  </tbody>\n",
       "</table>\n",
       "</div>"
      ],
      "text/plain": [
       "      engine_displacement  horsepower  vehicle_weight  model_year  \\\n",
       "9066                  240       136.0     4050.512290        2006   \n",
       "3073                  190       141.0     3195.866942        2017   \n",
       "2476                  200       184.0     3006.164370        2017   \n",
       "658                   200         0.0     2947.143980        2022   \n",
       "954                   250       132.0     3114.371978        2001   \n",
       "\n",
       "      fuel_efficiency_mpg  \n",
       "9066            10.304700  \n",
       "3073            13.479434  \n",
       "2476            16.190653  \n",
       "658             15.446503  \n",
       "954             14.472172  "
      ]
     },
     "execution_count": 49,
     "metadata": {},
     "output_type": "execute_result"
    }
   ],
   "source": [
    "df_new = df_new.fillna(0)\n",
    "df_new.head()"
   ]
  },
  {
   "cell_type": "code",
   "execution_count": 50,
   "id": "d0997c08-9900-4d53-9a71-fc1dd72b17b2",
   "metadata": {},
   "outputs": [],
   "source": [
    "y_train_new = df_new.fuel_efficiency_mpg.values\n",
    "y_test = df_test.fuel_efficiency_mpg.values\n",
    "\n",
    "del df_new['fuel_efficiency_mpg']\n",
    "del df_test['fuel_efficiency_mpg']"
   ]
  },
  {
   "cell_type": "code",
   "execution_count": 52,
   "id": "7ba18a4a-d1cb-4cb0-b392-f047b5dc3930",
   "metadata": {},
   "outputs": [
    {
     "data": {
      "text/plain": [
       "np.float64(0.4982088125079048)"
      ]
     },
     "execution_count": 52,
     "metadata": {},
     "output_type": "execute_result"
    }
   ],
   "source": [
    "w_0, w = train_linear_regression_reg(df_new.values, y_train_new, r=0.001)\n",
    "y_pred = w_0 + df_test.dot(w)\n",
    "rmse(y_pred, y_test)"
   ]
  }
 ],
 "metadata": {
  "kernelspec": {
   "display_name": "Python 3 (ipykernel)",
   "language": "python",
   "name": "python3"
  },
  "language_info": {
   "codemirror_mode": {
    "name": "ipython",
    "version": 3
   },
   "file_extension": ".py",
   "mimetype": "text/x-python",
   "name": "python",
   "nbconvert_exporter": "python",
   "pygments_lexer": "ipython3",
   "version": "3.12.1"
  }
 },
 "nbformat": 4,
 "nbformat_minor": 5
}
